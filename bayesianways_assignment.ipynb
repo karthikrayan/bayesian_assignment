{
  "nbformat": 4,
  "nbformat_minor": 0,
  "metadata": {
    "colab": {
      "provenance": []
    },
    "kernelspec": {
      "name": "python3",
      "display_name": "Python 3"
    },
    "language_info": {
      "name": "python"
    }
  },
  "cells": [
    {
      "cell_type": "markdown",
      "source": [
        "#### Palindrome check"
      ],
      "metadata": {
        "id": "XNGZMps-BPhH"
      }
    },
    {
      "cell_type": "code",
      "source": [
        "def check_palindrome(string):\n",
        "  string = string.lower()\n",
        "  if string == string[::-1]:\n",
        "    return True\n",
        "  else:\n",
        "    return False"
      ],
      "metadata": {
        "id": "RV7xHJfSBOhq"
      },
      "execution_count": null,
      "outputs": []
    },
    {
      "cell_type": "code",
      "source": [
        "user_text = input(\"Enter string to check palindrome: \")\n",
        "print(f\"Palindrom :{check_palindrome(user_text)}\")"
      ],
      "metadata": {
        "colab": {
          "base_uri": "https://localhost:8080/"
        },
        "id": "qElSyZT0Bggu",
        "outputId": "95c581ea-da5b-41e6-a61e-dd63a85cf9e1"
      },
      "execution_count": null,
      "outputs": [
        {
          "output_type": "stream",
          "name": "stdout",
          "text": [
            "Enter string to check palindrome: Naan\n",
            "Palindrom :True\n"
          ]
        }
      ]
    },
    {
      "cell_type": "markdown",
      "source": [
        "### Substring occurences"
      ],
      "metadata": {
        "id": "vzGE3uSC9dOm"
      }
    },
    {
      "cell_type": "code",
      "source": [
        "def substring_count(string, sub):\n",
        "\n",
        "    count = 0\n",
        "    for i in range(0, len(string)):\n",
        "        if string[i:(i+len(sub))] == sub:\n",
        "            count += 1\n",
        "    return count\n",
        "\n",
        "string = \"ABCCCCDC\"\n",
        "sub = \"CD\"\n",
        "substring_count(string, sub)\n"
      ],
      "metadata": {
        "colab": {
          "base_uri": "https://localhost:8080/"
        },
        "id": "jKC4qDzuDD9r",
        "outputId": "01cc4873-9d17-45f9-9fca-74cf6f8f8903"
      },
      "execution_count": null,
      "outputs": [
        {
          "output_type": "execute_result",
          "data": {
            "text/plain": [
              "1"
            ]
          },
          "metadata": {},
          "execution_count": 46
        }
      ]
    },
    {
      "cell_type": "markdown",
      "source": [
        "### Rock Paper Scissors - 2 users 10 rounds"
      ],
      "metadata": {
        "id": "j7NYOEMHFz4M"
      }
    },
    {
      "cell_type": "code",
      "source": [
        "rules = {'R':'S',\n",
        "         'P':'R',\n",
        "         'S':'P'}\n",
        "def play_round(rules):\n",
        "  print(\"Choose 'R','P' or 'S'\")\n",
        "  user1 = input(\"Player 1 : \")\n",
        "  user2 = input(\"Player 2 : \")\n",
        "  if user1 not in rules.keys() or user2 not in rules.keys():\n",
        "    print(\"Invalid input\")\n",
        "  elif user1==user2:\n",
        "    return 0\n",
        "  else:\n",
        "    if rules[user1]==user2:\n",
        "      return 1\n",
        "    else:\n",
        "      return 2\n",
        "rounds = []\n",
        "for round in range(10):\n",
        "  print(f\"Round {round+1}\")\n",
        "  winner = play_round(rules)  \n",
        "  if winner == 0:\n",
        "    print(\"Draw\")\n",
        "    rounds.append(0)\n",
        "  elif winner ==1:\n",
        "    print(\"Player 1 wins\")\n",
        "    rounds.append(1)\n",
        "  elif winner ==2:\n",
        "    print(\"Player 2 wins\")\n",
        "    rounds.append(2)\n",
        "\n",
        "if max(rounds,key=rounds.count)==0:\n",
        "  print(\"Match Draw\")\n",
        "else:\n",
        "  print(f\"Player {max(rounds,key=rounds.count)} :) won the game !!\")"
      ],
      "metadata": {
        "colab": {
          "base_uri": "https://localhost:8080/"
        },
        "id": "GR03KSTOFzXx",
        "outputId": "8b88d99f-ba69-4968-e7b0-df8f90d39771"
      },
      "execution_count": null,
      "outputs": [
        {
          "output_type": "stream",
          "name": "stdout",
          "text": [
            "Round 1\n",
            "Choose 'R','P' or 'S'\n",
            "Player 1 : R\n",
            "Player 2 : P\n",
            "Player 2 wins\n",
            "Round 2\n",
            "Choose 'R','P' or 'S'\n",
            "Player 1 : S\n",
            "Player 2 : S\n",
            "Draw\n",
            "Round 3\n",
            "Choose 'R','P' or 'S'\n",
            "Player 1 : P\n",
            "Player 2 : S\n",
            "Player 2 wins\n",
            "Round 4\n",
            "Choose 'R','P' or 'S'\n",
            "Player 1 : S\n",
            "Player 2 : R\n",
            "Player 2 wins\n",
            "Round 5\n",
            "Choose 'R','P' or 'S'\n",
            "Player 1 : R\n",
            "Player 2 : S\n",
            "Player 1 wins\n",
            "Round 6\n",
            "Choose 'R','P' or 'S'\n",
            "Player 1 : P\n",
            "Player 2 : S\n",
            "Player 2 wins\n",
            "Round 7\n",
            "Choose 'R','P' or 'S'\n",
            "Player 1 : R\n",
            "Player 2 : P\n",
            "Player 2 wins\n",
            "Round 8\n",
            "Choose 'R','P' or 'S'\n",
            "Player 1 : P\n",
            "Player 2 : S\n",
            "Player 2 wins\n",
            "Round 9\n",
            "Choose 'R','P' or 'S'\n",
            "Player 1 : S\n",
            "Player 2 : P\n",
            "Player 1 wins\n",
            "Round 10\n",
            "Choose 'R','P' or 'S'\n",
            "Player 1 : R\n",
            "Player 2 : P\n",
            "Player 2 wins\n",
            "Player 2 :) won the game !!\n"
          ]
        }
      ]
    },
    {
      "cell_type": "markdown",
      "source": [
        "### Price min and max "
      ],
      "metadata": {
        "id": "xRmA04HzaDl2"
      }
    },
    {
      "cell_type": "code",
      "source": [
        "import json\n",
        "f = open('data.json')\n",
        "data = json.load(f)"
      ],
      "metadata": {
        "id": "FSAze9rFaDR5"
      },
      "execution_count": null,
      "outputs": []
    },
    {
      "cell_type": "code",
      "source": [
        "with open(\"sample_data.json\") as fin1:\n",
        "    data1 = json.load(fin1)\n",
        "with open(\"data-2.json\") as fin2:\n",
        "    data2 = json.load(fin2)\n",
        "\n",
        "data1.extend(data2)\n",
        "with open(\"data.json\") as fin3:\n",
        "    data3 = json.load(fin3)\n",
        "\n",
        "data1.extend(data3)\n",
        "with open(\"merged.json\", \"w\") as fout:\n",
        "    json.dump(data1, fout)\n"
      ],
      "metadata": {
        "id": "z1z6Om7dyxlU"
      },
      "execution_count": 4,
      "outputs": []
    },
    {
      "cell_type": "code",
      "source": [
        "dataset = []\n",
        "for i in range(len(data1)):\n",
        "  dataset.append([data1[i]['time']['updated'],data1[i]['bpi']['USD']['rate_float'],data1[i]['bpi']['GBP']['rate_float']])\n",
        "dataset[:5],len(dataset)"
      ],
      "metadata": {
        "colab": {
          "base_uri": "https://localhost:8080/",
          "height": 0
        },
        "id": "V5XTKHaEavB1",
        "outputId": "ad2a6e15-7013-42cc-c646-b9412b4be516"
      },
      "execution_count": 9,
      "outputs": [
        {
          "output_type": "execute_result",
          "data": {
            "text/plain": [
              "([['Jan 15, 2023 09:46:00 UTC', 20628.497, 17237.007],\n",
              "  ['Jan 15, 2023 09:51:00 UTC', 20639.4289, 17246.1416],\n",
              "  ['Jan 15, 2023 09:57:00 UTC', 20709.353, 17304.5697],\n",
              "  ['Jan 15, 2023 10:02:00 UTC', 20726.49, 17318.8893],\n",
              "  ['Jan 15, 2023 10:07:00 UTC', 20719.1103, 17312.7228]],\n",
              " 295)"
            ]
          },
          "metadata": {},
          "execution_count": 9
        }
      ]
    },
    {
      "cell_type": "code",
      "source": [
        "import pandas as pd\n",
        "df = pd.DataFrame(data = dataset,columns = [\"Time\",\"USD\",\"GBP\"])\n",
        "df.head()"
      ],
      "metadata": {
        "colab": {
          "base_uri": "https://localhost:8080/",
          "height": 206
        },
        "id": "sNpBtZqqQ1wn",
        "outputId": "e1398c88-0978-4843-faa0-a2d2a9a2a9eb"
      },
      "execution_count": 10,
      "outputs": [
        {
          "output_type": "execute_result",
          "data": {
            "text/plain": [
              "                        Time         USD         GBP\n",
              "0  Jan 15, 2023 09:46:00 UTC  20628.4970  17237.0070\n",
              "1  Jan 15, 2023 09:51:00 UTC  20639.4289  17246.1416\n",
              "2  Jan 15, 2023 09:57:00 UTC  20709.3530  17304.5697\n",
              "3  Jan 15, 2023 10:02:00 UTC  20726.4900  17318.8893\n",
              "4  Jan 15, 2023 10:07:00 UTC  20719.1103  17312.7228"
            ],
            "text/html": [
              "\n",
              "  <div id=\"df-66a9f874-00d3-4dc8-8614-7d4f0f737341\">\n",
              "    <div class=\"colab-df-container\">\n",
              "      <div>\n",
              "<style scoped>\n",
              "    .dataframe tbody tr th:only-of-type {\n",
              "        vertical-align: middle;\n",
              "    }\n",
              "\n",
              "    .dataframe tbody tr th {\n",
              "        vertical-align: top;\n",
              "    }\n",
              "\n",
              "    .dataframe thead th {\n",
              "        text-align: right;\n",
              "    }\n",
              "</style>\n",
              "<table border=\"1\" class=\"dataframe\">\n",
              "  <thead>\n",
              "    <tr style=\"text-align: right;\">\n",
              "      <th></th>\n",
              "      <th>Time</th>\n",
              "      <th>USD</th>\n",
              "      <th>GBP</th>\n",
              "    </tr>\n",
              "  </thead>\n",
              "  <tbody>\n",
              "    <tr>\n",
              "      <th>0</th>\n",
              "      <td>Jan 15, 2023 09:46:00 UTC</td>\n",
              "      <td>20628.4970</td>\n",
              "      <td>17237.0070</td>\n",
              "    </tr>\n",
              "    <tr>\n",
              "      <th>1</th>\n",
              "      <td>Jan 15, 2023 09:51:00 UTC</td>\n",
              "      <td>20639.4289</td>\n",
              "      <td>17246.1416</td>\n",
              "    </tr>\n",
              "    <tr>\n",
              "      <th>2</th>\n",
              "      <td>Jan 15, 2023 09:57:00 UTC</td>\n",
              "      <td>20709.3530</td>\n",
              "      <td>17304.5697</td>\n",
              "    </tr>\n",
              "    <tr>\n",
              "      <th>3</th>\n",
              "      <td>Jan 15, 2023 10:02:00 UTC</td>\n",
              "      <td>20726.4900</td>\n",
              "      <td>17318.8893</td>\n",
              "    </tr>\n",
              "    <tr>\n",
              "      <th>4</th>\n",
              "      <td>Jan 15, 2023 10:07:00 UTC</td>\n",
              "      <td>20719.1103</td>\n",
              "      <td>17312.7228</td>\n",
              "    </tr>\n",
              "  </tbody>\n",
              "</table>\n",
              "</div>\n",
              "      <button class=\"colab-df-convert\" onclick=\"convertToInteractive('df-66a9f874-00d3-4dc8-8614-7d4f0f737341')\"\n",
              "              title=\"Convert this dataframe to an interactive table.\"\n",
              "              style=\"display:none;\">\n",
              "        \n",
              "  <svg xmlns=\"http://www.w3.org/2000/svg\" height=\"24px\"viewBox=\"0 0 24 24\"\n",
              "       width=\"24px\">\n",
              "    <path d=\"M0 0h24v24H0V0z\" fill=\"none\"/>\n",
              "    <path d=\"M18.56 5.44l.94 2.06.94-2.06 2.06-.94-2.06-.94-.94-2.06-.94 2.06-2.06.94zm-11 1L8.5 8.5l.94-2.06 2.06-.94-2.06-.94L8.5 2.5l-.94 2.06-2.06.94zm10 10l.94 2.06.94-2.06 2.06-.94-2.06-.94-.94-2.06-.94 2.06-2.06.94z\"/><path d=\"M17.41 7.96l-1.37-1.37c-.4-.4-.92-.59-1.43-.59-.52 0-1.04.2-1.43.59L10.3 9.45l-7.72 7.72c-.78.78-.78 2.05 0 2.83L4 21.41c.39.39.9.59 1.41.59.51 0 1.02-.2 1.41-.59l7.78-7.78 2.81-2.81c.8-.78.8-2.07 0-2.86zM5.41 20L4 18.59l7.72-7.72 1.47 1.35L5.41 20z\"/>\n",
              "  </svg>\n",
              "      </button>\n",
              "      \n",
              "  <style>\n",
              "    .colab-df-container {\n",
              "      display:flex;\n",
              "      flex-wrap:wrap;\n",
              "      gap: 12px;\n",
              "    }\n",
              "\n",
              "    .colab-df-convert {\n",
              "      background-color: #E8F0FE;\n",
              "      border: none;\n",
              "      border-radius: 50%;\n",
              "      cursor: pointer;\n",
              "      display: none;\n",
              "      fill: #1967D2;\n",
              "      height: 32px;\n",
              "      padding: 0 0 0 0;\n",
              "      width: 32px;\n",
              "    }\n",
              "\n",
              "    .colab-df-convert:hover {\n",
              "      background-color: #E2EBFA;\n",
              "      box-shadow: 0px 1px 2px rgba(60, 64, 67, 0.3), 0px 1px 3px 1px rgba(60, 64, 67, 0.15);\n",
              "      fill: #174EA6;\n",
              "    }\n",
              "\n",
              "    [theme=dark] .colab-df-convert {\n",
              "      background-color: #3B4455;\n",
              "      fill: #D2E3FC;\n",
              "    }\n",
              "\n",
              "    [theme=dark] .colab-df-convert:hover {\n",
              "      background-color: #434B5C;\n",
              "      box-shadow: 0px 1px 3px 1px rgba(0, 0, 0, 0.15);\n",
              "      filter: drop-shadow(0px 1px 2px rgba(0, 0, 0, 0.3));\n",
              "      fill: #FFFFFF;\n",
              "    }\n",
              "  </style>\n",
              "\n",
              "      <script>\n",
              "        const buttonEl =\n",
              "          document.querySelector('#df-66a9f874-00d3-4dc8-8614-7d4f0f737341 button.colab-df-convert');\n",
              "        buttonEl.style.display =\n",
              "          google.colab.kernel.accessAllowed ? 'block' : 'none';\n",
              "\n",
              "        async function convertToInteractive(key) {\n",
              "          const element = document.querySelector('#df-66a9f874-00d3-4dc8-8614-7d4f0f737341');\n",
              "          const dataTable =\n",
              "            await google.colab.kernel.invokeFunction('convertToInteractive',\n",
              "                                                     [key], {});\n",
              "          if (!dataTable) return;\n",
              "\n",
              "          const docLinkHtml = 'Like what you see? Visit the ' +\n",
              "            '<a target=\"_blank\" href=https://colab.research.google.com/notebooks/data_table.ipynb>data table notebook</a>'\n",
              "            + ' to learn more about interactive tables.';\n",
              "          element.innerHTML = '';\n",
              "          dataTable['output_type'] = 'display_data';\n",
              "          await google.colab.output.renderOutput(dataTable, element);\n",
              "          const docLink = document.createElement('div');\n",
              "          docLink.innerHTML = docLinkHtml;\n",
              "          element.appendChild(docLink);\n",
              "        }\n",
              "      </script>\n",
              "    </div>\n",
              "  </div>\n",
              "  "
            ]
          },
          "metadata": {},
          "execution_count": 10
        }
      ]
    },
    {
      "cell_type": "code",
      "source": [
        "def find_extremes(x):\n",
        "    min = max = x[0]\n",
        "    for val in x[1:]:\n",
        "        if val < min: \n",
        "            min = val \n",
        "        else: \n",
        "            if val > max:\n",
        "              max = val\n",
        "    return min,max"
      ],
      "metadata": {
        "id": "Auf71hxQWOv5"
      },
      "execution_count": 18,
      "outputs": []
    },
    {
      "cell_type": "code",
      "source": [
        "print(\"Minimum and maximum rate in USD:\" ,find_extremes(df.USD.values))\n",
        "print(\"Minimum and maximum rate in USD:\" ,find_extremes(df.GBP.values))"
      ],
      "metadata": {
        "colab": {
          "base_uri": "https://localhost:8080/"
        },
        "id": "00jQOQZOSusI",
        "outputId": "fac29cad-da82-44db-dfa4-c3828e04bf1a"
      },
      "execution_count": 19,
      "outputs": [
        {
          "output_type": "stream",
          "name": "stdout",
          "text": [
            "Minimum and maximum rate in USD: (20628.497, 21379.9695)\n",
            "Minimum and maximum rate in USD: (17237.007, 17864.9314)\n"
          ]
        }
      ]
    }
  ]
}